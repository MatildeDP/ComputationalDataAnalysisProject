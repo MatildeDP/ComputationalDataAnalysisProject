{
 "cells": [
  {
   "cell_type": "code",
   "execution_count": 3,
   "metadata": {},
   "outputs": [],
   "source": [
    "import pandas as pd\n",
    "import numpy as np\n",
    "import matplotlib.pyplot as plt\n",
    "import seaborn as sns\n",
    "sns.set()\n",
    "df = pd.read_excel(\"data/realised_schedule.xlsx\")\n",
    "df = df.drop('FlightNumber', axis = 1)\n"
   ]
  },
  {
   "cell_type": "code",
   "execution_count": 14,
   "metadata": {},
   "outputs": [
    {
     "ename": "OutOfBoundsDatetime",
     "evalue": "Out of bounds nanosecond timestamp: 1-01-01 01:00:00",
     "output_type": "error",
     "traceback": [
      "\u001b[1;31m---------------------------------------------------------------------------\u001b[0m",
      "\u001b[1;31mOutOfBoundsDatetime\u001b[0m                       Traceback (most recent call last)",
      "\u001b[1;32mc:\\Users\\peter\\OneDrive - Danmarks Tekniske Universitet\\DTU\\8. Semester\\02582-Computational_Data_Analysis\\ComputationalDataAnalysisProject\\model.ipynb Cell 2'\u001b[0m in \u001b[0;36m<module>\u001b[1;34m\u001b[0m\n\u001b[1;32m----> <a href='vscode-notebook-cell:/c%3A/Users/peter/OneDrive%20-%20Danmarks%20Tekniske%20Universitet/DTU/8.%20Semester/02582-Computational_Data_Analysis/ComputationalDataAnalysisProject/model.ipynb#ch0000001?line=0'>1</a>\u001b[0m (df\u001b[39m.\u001b[39mScheduleTime \u001b[39m-\u001b[39m df\u001b[39m.\u001b[39mScheduleTime[\u001b[39m0\u001b[39m]) \u001b[39m/\u001b[39m pd\u001b[39m.\u001b[39;49mTimestamp(\u001b[39m'\u001b[39;49m\u001b[39m1h\u001b[39;49m\u001b[39m'\u001b[39;49m)\n",
      "File \u001b[1;32mc:\\Users\\peter\\OneDrive - Danmarks Tekniske Universitet\\DTU\\8. Semester\\02582-Computational_Data_Analysis\\env\\lib\\site-packages\\pandas\\_libs\\tslibs\\timestamps.pyx:1399\u001b[0m, in \u001b[0;36mpandas._libs.tslibs.timestamps.Timestamp.__new__\u001b[1;34m()\u001b[0m\n",
      "File \u001b[1;32mc:\\Users\\peter\\OneDrive - Danmarks Tekniske Universitet\\DTU\\8. Semester\\02582-Computational_Data_Analysis\\env\\lib\\site-packages\\pandas\\_libs\\tslibs\\conversion.pyx:408\u001b[0m, in \u001b[0;36mpandas._libs.tslibs.conversion.convert_to_tsobject\u001b[1;34m()\u001b[0m\n",
      "File \u001b[1;32mc:\\Users\\peter\\OneDrive - Danmarks Tekniske Universitet\\DTU\\8. Semester\\02582-Computational_Data_Analysis\\env\\lib\\site-packages\\pandas\\_libs\\tslibs\\conversion.pyx:654\u001b[0m, in \u001b[0;36mpandas._libs.tslibs.conversion._convert_str_to_tsobject\u001b[1;34m()\u001b[0m\n",
      "File \u001b[1;32mc:\\Users\\peter\\OneDrive - Danmarks Tekniske Universitet\\DTU\\8. Semester\\02582-Computational_Data_Analysis\\env\\lib\\site-packages\\pandas\\_libs\\tslibs\\conversion.pyx:436\u001b[0m, in \u001b[0;36mpandas._libs.tslibs.conversion.convert_to_tsobject\u001b[1;34m()\u001b[0m\n",
      "File \u001b[1;32mc:\\Users\\peter\\OneDrive - Danmarks Tekniske Universitet\\DTU\\8. Semester\\02582-Computational_Data_Analysis\\env\\lib\\site-packages\\pandas\\_libs\\tslibs\\conversion.pyx:517\u001b[0m, in \u001b[0;36mpandas._libs.tslibs.conversion.convert_datetime_to_tsobject\u001b[1;34m()\u001b[0m\n",
      "File \u001b[1;32mc:\\Users\\peter\\OneDrive - Danmarks Tekniske Universitet\\DTU\\8. Semester\\02582-Computational_Data_Analysis\\env\\lib\\site-packages\\pandas\\_libs\\tslibs\\np_datetime.pyx:120\u001b[0m, in \u001b[0;36mpandas._libs.tslibs.np_datetime.check_dts_bounds\u001b[1;34m()\u001b[0m\n",
      "\u001b[1;31mOutOfBoundsDatetime\u001b[0m: Out of bounds nanosecond timestamp: 1-01-01 01:00:00"
     ]
    }
   ],
   "source": [
    "(df.ScheduleTime - df.ScheduleTime[0]) / pd.Timestamp('1h')"
   ]
  },
  {
   "cell_type": "code",
   "execution_count": null,
   "metadata": {},
   "outputs": [],
   "source": [
    "df_onehot = pd.get_dummies(df)\n",
    "\n",
    "Y = df_onehot.LoadFactor.values\n",
    "X = df_onehot.drop([\"ScheduleTime\", \"LoadFactor\"], axis = 1).values"
   ]
  },
  {
   "cell_type": "code",
   "execution_count": 55,
   "metadata": {},
   "outputs": [],
   "source": [
    "A = df.groupby([\"Sector\"]).agg( {'ScheduleTime':'count'}) / len(df)\n",
    "B = df.groupby([\"Destination\"]).agg( {'ScheduleTime':'count'}) / len(df)\n"
   ]
  }
 ],
 "metadata": {
  "interpreter": {
   "hash": "08fe0c0a6f4f1a10e21cec8c52b78bcd1d155fe3471bdb4af22096a2f142cc0e"
  },
  "kernelspec": {
   "display_name": "Python 3.8.10 ('env': venv)",
   "language": "python",
   "name": "python3"
  },
  "language_info": {
   "codemirror_mode": {
    "name": "ipython",
    "version": 3
   },
   "file_extension": ".py",
   "mimetype": "text/x-python",
   "name": "python",
   "nbconvert_exporter": "python",
   "pygments_lexer": "ipython3",
   "version": "3.8.10"
  },
  "orig_nbformat": 4
 },
 "nbformat": 4,
 "nbformat_minor": 2
}
